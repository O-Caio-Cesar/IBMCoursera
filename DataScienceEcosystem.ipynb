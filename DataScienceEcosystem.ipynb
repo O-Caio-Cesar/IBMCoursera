{
  "nbformat": 4,
  "nbformat_minor": 0,
  "metadata": {
    "colab": {
      "provenance": []
    },
    "kernelspec": {
      "name": "python3",
      "display_name": "Python 3"
    },
    "language_info": {
      "name": "python"
    }
  },
  "cells": [
    {
      "cell_type": "markdown",
      "source": [
        "# Data Science Tools and Ecosystem\n"
      ],
      "metadata": {
        "id": "4OM2Poqyyb68"
      }
    },
    {
      "cell_type": "markdown",
      "source": [
        "**Objectives:**\n",
        "\n",
        "*   Most popular languages\n",
        "*   Most used libraries\n",
        "*   Data science tools\n",
        "*   Arithmetic Expressions\n",
        "\n"
      ],
      "metadata": {
        "id": "e2yOS3kV1s1F"
      }
    },
    {
      "cell_type": "markdown",
      "source": [
        "## Author:\n",
        "Caio Azevedo"
      ],
      "metadata": {
        "id": "O1py9Icl2nFT"
      }
    },
    {
      "cell_type": "markdown",
      "source": [
        "In this notebook, Data Science Tools and Ecosystem are summarized."
      ],
      "metadata": {
        "id": "KdkR6PYRyxiU"
      }
    },
    {
      "cell_type": "markdown",
      "source": [
        "Some of the popular languages that Data Scientists use are:"
      ],
      "metadata": {
        "id": "bMih1brVy5aV"
      }
    },
    {
      "cell_type": "markdown",
      "source": [
        "\n",
        "\n",
        "*   Python;\n",
        "*   R;\n",
        "*   SQL.\n",
        "\n",
        "\n",
        "\n",
        "\n",
        "\n"
      ],
      "metadata": {
        "id": "BstdiqKEy7gg"
      }
    },
    {
      "cell_type": "markdown",
      "source": [
        "Some of the commonly used libraries used by Data Scientists include:\n",
        "\n",
        "\n",
        "1.   Matplotlib;\n",
        "2.   Seaborn;\n",
        "3.   Pandas.\n",
        "\n"
      ],
      "metadata": {
        "id": "nLgsitQpzYK0"
      }
    },
    {
      "cell_type": "markdown",
      "source": [
        "|Data Science Tools|\n",
        "|------------------|\n",
        "|Google Colab|\n",
        "|Jupyter|\n",
        "|Anaconda|\n"
      ],
      "metadata": {
        "id": "k273JfMAzyMa"
      }
    },
    {
      "cell_type": "markdown",
      "source": [
        "### Below are a few examples of evaluating arithmetic expressions in Python"
      ],
      "metadata": {
        "id": "2Q2b2Kq90_ta"
      }
    },
    {
      "cell_type": "code",
      "source": [
        "#This a simple arithmetic expression to mutiply then add integers\n",
        "(3*4)+5"
      ],
      "metadata": {
        "colab": {
          "base_uri": "https://localhost:8080/"
        },
        "id": "ytMrAu9w1BKP",
        "outputId": "c266aa2c-4e8e-4e26-b980-581c43c8875e"
      },
      "execution_count": 1,
      "outputs": [
        {
          "output_type": "execute_result",
          "data": {
            "text/plain": [
              "17"
            ]
          },
          "metadata": {},
          "execution_count": 1
        }
      ]
    },
    {
      "cell_type": "code",
      "source": [
        "#This will convert 200 minutes to hours by diving by 60\n",
        "200/60"
      ],
      "metadata": {
        "colab": {
          "base_uri": "https://localhost:8080/"
        },
        "id": "hzIsOVdE1Pvp",
        "outputId": "18c32683-04c3-4b64-b97f-3bf861bde954"
      },
      "execution_count": 2,
      "outputs": [
        {
          "output_type": "execute_result",
          "data": {
            "text/plain": [
              "3.3333333333333335"
            ]
          },
          "metadata": {},
          "execution_count": 2
        }
      ]
    },
    {
      "cell_type": "code",
      "source": [],
      "metadata": {
        "id": "FANnGQ3g1ef9"
      },
      "execution_count": null,
      "outputs": []
    }
  ]
}